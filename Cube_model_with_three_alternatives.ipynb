{
  "cells": [
    {
      "cell_type": "markdown",
      "metadata": {
        "id": "view-in-github",
        "colab_type": "text"
      },
      "source": [
        "<a href=\"https://colab.research.google.com/github/sanada5/Simulation-of-mathematical-models-of-decision-making/blob/main/Cube_model_with_three_alternatives.ipynb\" target=\"_parent\"><img src=\"https://colab.research.google.com/assets/colab-badge.svg\" alt=\"Open In Colab\"/></a>"
      ]
    },
    {
      "cell_type": "markdown",
      "id": "a37bf450",
      "metadata": {
        "id": "a37bf450"
      },
      "source": [
        "# Cube model with three alternatives"
      ]
    },
    {
      "cell_type": "code",
      "execution_count": null,
      "id": "a660db93",
      "metadata": {
        "id": "a660db93"
      },
      "outputs": [],
      "source": [
        "import numpy as np\n",
        "import matplotlib.pyplot as plt\n",
        "from tabulate import tabulate\n",
        "SUB = str.maketrans(\"0123456789\", \"₀₁₂₃₄₅₆₇₈₉\")\n",
        "import seaborn as sns\n",
        "import pandas as pd"
      ]
    },
    {
      "cell_type": "markdown",
      "id": "636c4138",
      "metadata": {
        "id": "636c4138"
      },
      "source": [
        "Wiener Process;\n",
        "\n",
        "-Wiener(n, 3, T).T[0]- the first independent Wiener proces\n",
        "\n",
        "-Wiener(n, 3, T). T[1]- the second independent Wiener process\n",
        "\n",
        "-Wiener(n, 3, T). T[2]- the third independent Wiener process"
      ]
    },
    {
      "cell_type": "code",
      "execution_count": null,
      "id": "aa22551d",
      "metadata": {
        "id": "aa22551d"
      },
      "outputs": [],
      "source": [
        "def Wiener(n, d, T):  #n is the number of time steps, d is the dimension of the Wiener process and T is the end time of simulation\n",
        "    times=np.linspace(0, T, n)  #equally distanced n time steps\n",
        "    dt=times[1]-times[0]\n",
        "    dB=np.sqrt(dt)*np.random.normal(size=(n-1, d)) #dB=Wt2-Wt1 has a normal distribution with mean 0 and variance t2-t1=dt\n",
        "    B0=np.zeros(shape=(1,d))    #Wiener process starts at 0\n",
        "    B=np.concatenate((B0,np.cumsum(dB, axis=0)), axis=0) #to find the Wt1, we add up all dThe choice probabilities for option 1, option 2, and fall-back option are 0.497, 0.135, and 0.368 respectively. The mean of reaction time is 0.6320399353300998.ifferences till Wt1-W(t1-dt)\n",
        "    return B"
      ]
    },
    {
      "cell_type": "code",
      "execution_count": null,
      "id": "3f681563",
      "metadata": {
        "id": "3f681563"
      },
      "outputs": [],
      "source": [
        "#components of drift vector (mu1, mu2, mu3) and sigma matrix np.array([s11, 0, 0],[0, s22, 0],[0, 0, s33])\n",
        "#time=ending time of the process\n",
        "#N=number of simulations (for loop)\n",
        "#n is the number of steps of the time, d is the dimension of the Wiener process\n",
        "#which in our case is 2\n",
        "#(mu1, mu2) is the drift vector\n",
        "#Sigma matrix is a diagonal matrix: ((s11, 0),(0, s22))\n",
        "def Cubemodel(time,N,n, d, mu1, mu2,mu3, s11, s22,s33): #n is the number of time steps, d is the dimension\n",
        "    times=np.linspace(0, time, n)   #timestep is time/n\n",
        "    result={\"Option1\":0, \"Option2\":0, \"Option3\":0} #dictionary to keep record of the times each of the option is chosen\n",
        "    worst_best={\"A1A2A3\":0, \"A1A3A2\":0, \"A2A1A3\":0, \"A2A3A1\":0, \"A3A1A2\":0, \"A3A2A1\":0}\n",
        "    stopping_times=[]\n",
        "    episodes=np.zeros((2, N))  #record the time each episode of the process ends\n",
        "    times_A1_favorite=[]\n",
        "    times_A2_favorite=[]\n",
        "    times_A3_favorite=[]\n",
        "    times_A1_least_favorite=[]\n",
        "    times_A2_least_favorite=[]\n",
        "    times_A3_least_favorite=[]\n",
        "    for i in range(N):\n",
        "        #X(t)=(X1(t), X2(t))\n",
        "        #X1=mu1*t+s11*W1\n",
        "        X1=np.ones(n)*mu1*times+s11*np.ones(n)*np.array(Wiener(n, d, time).T[0]) #array code which finds the value of X1 for each t in times\n",
        "        #X2=mu2*t+s22*W2,\n",
        "        X2=np.ones(n)*mu2*times+s22*np.ones(n)*np.array(Wiener(n, d, time).T[1])  #array code which finds the value of X2 for each t in times\n",
        "        X3=np.ones(n)*mu3*times+s33*np.ones(n)*np.array(Wiener(n, d, time).T[2])  #array code which finds the value of X2 for each t in times\n",
        "        X1new=abs(X1)  #make every value in X1 absolute\n",
        "        X2new=abs(X2)  #make every value in X2 absolute\n",
        "        X3new=abs(X3)\n",
        "        a=[k for k in X1new if k>=1]  #obtain those indices of values in X1 whose absolute value is >=1\n",
        "        b=[k for k in X2new if k>=1]  #obtain those indices of values in X2 whose\n",
        "        c=[k for k in X3new if k>=1]\n",
        "        k1=list(X1new).index(a[0])   #find the first element in X1 whose absolute value is >=1\n",
        "        k2=list(X2new).index(b[0])    #find the first element in X2 whose absolute value is >=1\n",
        "        k3=list(X3new).index(c[0])\n",
        "        k=min(k1,k2,k3)\n",
        "        m1=X1[k]\n",
        "        m2=X2[k]\n",
        "        m3=X3[k]\n",
        "    #possible cases\n",
        "        if m1>=1:   #if the accept boundary of the first option is hit, we are done\n",
        "            result[\"Option1\"]+=1\n",
        "            stopping_times.append(times[k])\n",
        "            episodes[0,i]=times[k]\n",
        "            times_A1_favorite.append(times[k])\n",
        "            X2_11=m2*np.ones(n)+np.ones(n)*mu2*times+s22*np.ones(n)*np.array(Wiener(n, d-1, time).T[0])\n",
        "            X3_11=m3*np.ones(n)+np.ones(n)*mu3*times+s33*np.ones(n)*np.array(Wiener(n, d-1, time).T[1])\n",
        "            X2new11=abs(X2_11)\n",
        "            X3new11=abs(X3_11)\n",
        "            a=[k for k in X2new11 if k>=1]\n",
        "            b=[k for k in X3new11 if k>=1]\n",
        "            k11=list(X2new11).index(a[0])\n",
        "            k21=list(X3new11).index(b[0])\n",
        "            k_init=min(k11,k21)\n",
        "            if X2_11[k_init]>=1 or X3_11[k_init]<=-1:  #if the accept boundary of the second option is hit, then this option is chosen\n",
        "                worst_best[\"A1A2A3\"]+=1\n",
        "                episodes[1,i]=0\n",
        "                times_A3_least_favorite.append(times[k_init]+times[k])\n",
        "            else:\n",
        "                worst_best[\"A1A3A2\"]+=1\n",
        "                episodes[1,i]=0\n",
        "                times_A2_least_favorite.append(times[k_init]+times[k])\n",
        "        elif m2>=1:   #if the accept boundary of the second option is hit, we are done\n",
        "            result[\"Option2\"]+=1\n",
        "            stopping_times.append(times[k])\n",
        "            times_A2_favorite.append(times[k])\n",
        "            episodes[0,i]=times[k]\n",
        "            X1_11=m1*np.ones(n)+np.ones(n)*mu1*times+s11*np.ones(n)*np.array(Wiener(n, d-1, time).T[0])\n",
        "            X3_22=m3*np.ones(n)+np.ones(n)*mu3*times+s33*np.ones(n)*np.array(Wiener(n, d-1, time).T[1])\n",
        "            X1new11=abs(X1_11)\n",
        "            X3new22=abs(X3_22)\n",
        "            a=[k for k in X1new11 if k>=1]\n",
        "            b=[k for k in X3new22 if k>=1]\n",
        "            k1=list(X1new11).index(a[0])\n",
        "            k2=list(X3new22).index(b[0])\n",
        "            k22=min(k1,k2)\n",
        "\n",
        "            if X1_11[k22]>=1 or X3_22[k22]<=-1:\n",
        "                worst_best[\"A2A1A3\"]+=1\n",
        "                episodes[1,i]=0\n",
        "                times_A3_least_favorite.append(times[k22]+times[k])\n",
        "            else:\n",
        "                worst_best[\"A2A3A1\"]+=1\n",
        "                episodes[1,i]=0\n",
        "                times_A1_least_favorite.append(times[k22]+times[k])\n",
        "        elif m3>=1:   #if the accept boundary of the second option is hit, we are done\n",
        "            result[\"Option3\"]+=1\n",
        "            stopping_times.append(times[k])\n",
        "            times_A3_favorite.append(times[k])\n",
        "            episodes[0,i]=times[k]\n",
        "            X1_22=m1*np.ones(n)+np.ones(n)*mu1*times+s11*np.ones(n)*np.array(Wiener(n, d-1, time).T[0])\n",
        "            X2_22=m2*np.ones(n)+np.ones(n)*mu2*times+s22*np.ones(n)*np.array(Wiener(n, d-1, time).T[1])\n",
        "            X1new22=abs(X1_22)\n",
        "            X2new22=abs(X2_22)\n",
        "            a=[k for k in X1new22 if k>=1]\n",
        "            b=[k for k in X2new22 if k>=1]\n",
        "            k1=list(X1new22).index(a[0])\n",
        "            k2=list(X2new22).index(b[0])\n",
        "            k33=min(k1,k2)\n",
        "            if X1_22[k33]>=1 or X2_22[k33]<=-1:\n",
        "                worst_best[\"A3A1A2\"]+=1\n",
        "                episodes[1,i]=0\n",
        "                times_A2_least_favorite.append(times[k]+times[k33])\n",
        "            else:\n",
        "                worst_best[\"A3A2A1\"]+=1\n",
        "                episodes[1,i]=0\n",
        "                times_A1_least_favorite.append(times[k]+times[k33])\n",
        "        elif m1<=-1:      #if the reject boundary of the first option is hit, we have the one dimensional Wiener process with drift concerning the second component\n",
        "            X2_1=m2*np.ones(n)+np.ones(n)*mu2*times+s22*np.ones(n)*np.array(Wiener(n, d-1, time).T[0])\n",
        "            X3_1=m3*np.ones(n)+np.ones(n)*mu3*times+s33*np.ones(n)*np.array(Wiener(n, d-1, time).T[1])\n",
        "            X2new1=abs(X2_1)\n",
        "            X3new1=abs(X3_1)\n",
        "            a=[k for k in X2new1 if k>=1]\n",
        "            b=[k for k in X3new1 if k>=1]\n",
        "            k1=list(X2new1).index(a[0])\n",
        "            k2=list(X3new1).index(b[0])\n",
        "            k11=min(k1,k2)\n",
        "            episodes[0,i]=times[k]\n",
        "            times_A1_least_favorite.append(times[k])\n",
        "             #find the first element in X2 whose absolute value is >=1\n",
        "            if X2_1[k11]>=1 or X3_1[k11]<=-1:  #if the accept boundary of the second option is hit, then this option is chosen\n",
        "                result[\"Option2\"]+=1\n",
        "                stopping_times.append(times[k]+times[k11])\n",
        "                worst_best[\"A2A3A1\"]+=1\n",
        "                episodes[1,i]=times[k11]\n",
        "                times_A2_favorite.append(times[k]+times[k11])\n",
        "            elif X2_1[k11]<=-1 or X3_1[k11]>=1:\n",
        "                result[\"Option3\"]+=1\n",
        "                stopping_times.append(times[k]+times[k11])   #one is left with the Fall back option\n",
        "                worst_best[\"A3A2A1\"]+=1\n",
        "                episodes[1,i]=times[k11]\n",
        "                times_A3_favorite.append(times[k]+times[k11])\n",
        "        elif X2[k]<=-1:      #if the reject boun1dary of the first option is hit, we have the one dimensional Wiener process with drift concerning the second component\n",
        "            X1_1=m1*np.ones(n)+np.ones(n)*mu1*times+s11*np.ones(n)*np.array(Wiener(n, d-1, time).T[0])\n",
        "            X3_2=m3*np.ones(n)+np.ones(n)*mu3*times+s33*np.ones(n)*np.array(Wiener(n, d-1, time).T[1])\n",
        "            X1new1=abs(X1_1)\n",
        "            X3new2=abs(X3_2)\n",
        "            a=[k for k in X1new1 if k>=1]\n",
        "            b=[k for k in X3new2 if k>=1]\n",
        "            k1=list(X1new1).index(a[0])\n",
        "            k2=list(X3new2).index(b[0])\n",
        "            k22=min(k1,k2)\n",
        "            episodes[0,i]=times[k]\n",
        "            times_A2_least_favorite.append(times[k])\n",
        "             #find the first element in X2 whose absolute value is >=1\n",
        "            if X1_1[k22]>=1 or X3_2[k22]<=-1:  #if the accept boundary of the second option is hit, then this option is chosen\n",
        "                result[\"Option1\"]+=1\n",
        "                stopping_times.append(times[k]+times[k22])\n",
        "                worst_best[\"A1A3A2\"]+=1\n",
        "                episodes[1,i]=times[k22]\n",
        "                times_A1_favorite.append(times[k22]+times[k])\n",
        "            elif X1_1[k22]<=-1 or X3_2[k22]>=1:\n",
        "                result[\"Option3\"]+=1\n",
        "                stopping_times.append(times[k]+times[k22])   #one is left with the Fall back option\n",
        "                worst_best[\"A3A1A2\"]+=1\n",
        "                episodes[1,i]=times[k22]\n",
        "                times_A3_favorite.append(times[k]+times[k22])\n",
        "        elif X3[k]<=-1:      #if the reject boundary of the first option is hit, we have the one dimensional Wiener process with drift concerning the second component\n",
        "            X1_2=m1*np.ones(n)+np.ones(n)*mu1*times+s11*np.ones(n)*np.array(Wiener(n, d-1, time).T[0])\n",
        "            X2_2=m2*np.ones(n)+np.ones(n)*mu2*times+s22*np.ones(n)*np.array(Wiener(n, d-1, time).T[1])\n",
        "            X1new2=abs(X1_2)\n",
        "            X2new2=abs(X2_2)\n",
        "            a=[k for k in X1new2 if k>=1]\n",
        "            b=[k for k in X2new2 if k>=1]\n",
        "            k1=list(X1new2).index(a[0])\n",
        "            k2=list(X2new2).index(b[0])\n",
        "            k33=min(k1,k2)\n",
        "            episodes[0,i]=times[k]\n",
        "            times_A3_least_favorite.append(times[k33])\n",
        "             #find the first element in X2 whose absolute value is >=1\n",
        "            if X1_2[k33]>=1 or X2_2[k33]<=-1:  #if the accept boundary of the second option is hit, then this option is chosen\n",
        "                result[\"Option1\"]+=1\n",
        "                stopping_times.append(times[k]+times[k33])\n",
        "                worst_best[\"A1A2A3\"]+=1\n",
        "                episodes[1,i]=times[k33]\n",
        "                times_A1_favorite.append(times[k]+times[k33])\n",
        "            elif X1_2[k33]<=-1 or X2_2[k33]>=1:\n",
        "                result[\"Option2\"]+=1\n",
        "                stopping_times.append(times[k]+times[k33])   #one is left with the Fall back option\n",
        "                worst_best[\"A2A1A3\"]+=1\n",
        "                episodes[1,i]=times[k33]\n",
        "                times_A2_favorite.append(times[k]+times[k33])\n",
        "    data=[[worst_best[\"A1A2A3\"]/N, worst_best[\"A1A3A2\"]/N,worst_best[\"A2A1A3\"]/N, worst_best[\"A2A3A1\"]/N,worst_best[\"A3A1A2\"]/N, worst_best[\"A3A2A1\"]/N],[np.mean(times_A1_favorite), np.mean(times_A2_favorite), np.mean(times_A3_favorite)],[np.mean(times_A1_least_favorite), np.mean(times_A2_least_favorite), np.mean(times_A3_least_favorite)]]\n",
        "    return \"The choice probabilities for option 1, option 2, and option 3 are {}, {}, and {} respectively. The mean of the reaction time is {}\".format(result[\"Option1\"]/N, result[\"Option2\"]/N, result[\"Option3\"]/N, np.mean(stopping_times)), stopping_times, data, episodes, \"The average durations of the first and second episode of the process are {} and {} respectively\".format(np.mean(episodes[0]), np.mean(episodes[1]))"
      ]
    },
    {
      "cell_type": "code",
      "execution_count": null,
      "id": "686a9ce1",
      "metadata": {
        "id": "686a9ce1"
      },
      "outputs": [],
      "source": [
        "summary, reaction_time, worst_best, episodes, info_episodes=Cubemodel(500, 3000, 50000, 3, 0, 0, 0, 1, 1, 1)  #drift vector=0, simga matrix=I"
      ]
    },
    {
      "cell_type": "markdown",
      "id": "e29912b8",
      "metadata": {
        "id": "e29912b8"
      },
      "source": [
        "Find the choice probability for each of the three options and mean of the reaction time of the process"
      ]
    },
    {
      "cell_type": "code",
      "execution_count": null,
      "id": "6b051808",
      "metadata": {
        "id": "6b051808",
        "outputId": "7ad963bf-4f55-4d51-9185-e549ccd5ed73"
      },
      "outputs": [
        {
          "data": {
            "text/plain": [
              "'The choice probabilities for option 1, option 2, and option 3 are 0.34, 0.33, and 0.33 respectively. The mean of the reaction time is 0.7230777948892311'"
            ]
          },
          "execution_count": 5,
          "metadata": {},
          "output_type": "execute_result"
        }
      ],
      "source": [
        "summary"
      ]
    },
    {
      "cell_type": "markdown",
      "id": "3aa9d44f",
      "metadata": {
        "id": "3aa9d44f"
      },
      "source": [
        "Display the probability distribution of the reaction time random variable:"
      ]
    },
    {
      "cell_type": "code",
      "execution_count": null,
      "id": "a8c43d8b",
      "metadata": {
        "id": "a8c43d8b",
        "outputId": "cdc3d5fc-99e2-46dc-98c5-19ffecef3615"
      },
      "outputs": [
        {
          "name": "stderr",
          "output_type": "stream",
          "text": [
            "No artists with labels found to put in legend.  Note that artists whose label start with an underscore are ignored when legend() is called with no argument.\n"
          ]
        },
        {
          "data": {
            "image/png": "[encoded data removed]",
            "text/plain": [
              "<Figure size 500x500 with 1 Axes>"
            ]
          },
          "metadata": {},
          "output_type": "display_data"
        }
      ],
      "source": [
        "sns.displot(data=reaction_time,kind='kde', color='green')\n",
        "plt.xlabel('Reaction Time')\n",
        "plt.ylabel('Density')\n",
        "plt.legend(title=r\"$\\mu_{1}=0$, $\\mu_{2}=0$, $\\mu_{3}=0$, $\\sigma_{11}=1$, $\\sigma_{22}=1$, $\\sigma_{33}=1$\")\n",
        "plt.show()"
      ]
    },
    {
      "cell_type": "markdown",
      "id": "d771cd9b",
      "metadata": {
        "id": "d771cd9b"
      },
      "source": [
        "Find the choice probabilities of each of worst-best scenarios and of these possibilities describing each of the options as being the most/least preferred, and the corresponding mean time:"
      ]
    },
    {
      "cell_type": "code",
      "execution_count": null,
      "id": "276abd57",
      "metadata": {
        "id": "276abd57",
        "outputId": "21db83dc-a2a6-4288-d33e-124e0c078880"
      },
      "outputs": [
        {
          "data": {
            "text/html": [
              "<div>\n",
              "<style scoped>\n",
              "    .dataframe tbody tr th:only-of-type {\n",
              "        vertical-align: middle;\n",
              "    }\n",
              "\n",
              "    .dataframe tbody tr th {\n",
              "        vertical-align: top;\n",
              "    }\n",
              "\n",
              "    .dataframe thead th {\n",
              "        text-align: right;\n",
              "    }\n",
              "</style>\n",
              "<table border=\"1\" class=\"dataframe\">\n",
              "  <thead>\n",
              "    <tr style=\"text-align: right;\">\n",
              "      <th></th>\n",
              "      <th>P[A₁A₂A₃]</th>\n",
              "      <th>P[A₁A₃A₂]</th>\n",
              "      <th>P[A₂A₁A₃]</th>\n",
              "      <th>P[A₂A₃A₁]</th>\n",
              "      <th>P[A₃A₁A₂]</th>\n",
              "      <th>P[A₃A₂A₁]</th>\n",
              "    </tr>\n",
              "  </thead>\n",
              "  <tbody>\n",
              "    <tr>\n",
              "      <th>0</th>\n",
              "      <td>0.163</td>\n",
              "      <td>0.177</td>\n",
              "      <td>0.162667</td>\n",
              "      <td>0.167333</td>\n",
              "      <td>0.166</td>\n",
              "      <td>0.164</td>\n",
              "    </tr>\n",
              "  </tbody>\n",
              "</table>\n",
              "</div>"
            ],
            "text/plain": [
              "   P[A₁A₂A₃]  P[A₁A₃A₂]  P[A₂A₁A₃]  P[A₂A₃A₁]  P[A₃A₁A₂]  P[A₃A₂A₁]\n",
              "0      0.163      0.177   0.162667   0.167333      0.166      0.164"
            ]
          },
          "execution_count": 8,
          "metadata": {},
          "output_type": "execute_result"
        }
      ],
      "source": [
        "head1=[\"P[A1A2A3]\".translate(SUB), \"P[A1A3A2]\".translate(SUB), \"P[A2A1A3]\".translate(SUB), \"P[A2A3A1]\".translate(SUB), \"P[A3A1A2]\".translate(SUB), \"P[A3A2A1]\".translate(SUB)]\n",
        "mydata1=[worst_best[0]] #the probabilities of each of the worst_best scenarios\n",
        "df1=pd.DataFrame(mydata1, columns=head1)\n",
        "df1"
      ]
    },
    {
      "cell_type": "code",
      "execution_count": null,
      "id": "3c3485a5",
      "metadata": {
        "id": "3c3485a5",
        "outputId": "2d362136-1bb1-4a43-9c57-7ba87db99bf5"
      },
      "outputs": [
        {
          "data": {
            "text/html": [
              "<div>\n",
              "<style scoped>\n",
              "    .dataframe tbody tr th:only-of-type {\n",
              "        vertical-align: middle;\n",
              "    }\n",
              "\n",
              "    .dataframe tbody tr th {\n",
              "        vertical-align: top;\n",
              "    }\n",
              "\n",
              "    .dataframe thead th {\n",
              "        text-align: right;\n",
              "    }\n",
              "</style>\n",
              "<table border=\"1\" class=\"dataframe\">\n",
              "  <thead>\n",
              "    <tr style=\"text-align: right;\">\n",
              "      <th></th>\n",
              "      <th>P[A₁ is the most preferred option]</th>\n",
              "      <th>P[A₂ is the most preferred option]</th>\n",
              "      <th>P[A₃ is the most preferred option]</th>\n",
              "    </tr>\n",
              "  </thead>\n",
              "  <tbody>\n",
              "    <tr>\n",
              "      <th>0</th>\n",
              "      <td>0.34</td>\n",
              "      <td>0.33</td>\n",
              "      <td>0.33</td>\n",
              "    </tr>\n",
              "  </tbody>\n",
              "</table>\n",
              "</div>"
            ],
            "text/plain": [
              "   P[A₁ is the most preferred option]  P[A₂ is the most preferred option]  \\\n",
              "0                                0.34                                0.33   \n",
              "\n",
              "   P[A₃ is the most preferred option]  \n",
              "0                                0.33  "
            ]
          },
          "execution_count": 9,
          "metadata": {},
          "output_type": "execute_result"
        }
      ],
      "source": [
        "head2=[\"P[A1 is the most preferred option]\".translate(SUB), \"P[A2 is the most preferred option]\".translate(SUB), \"P[A3 is the most preferred option]\".translate(SUB)]\n",
        "mydata2=[[worst_best[0][0]+worst_best[0][1],worst_best[0][2]+worst_best[0][3], worst_best[0][4]+worst_best[0][5]]] #the probabilities for the scenarios where options A1, A2, F are the most preferred ones\n",
        "df2=pd.DataFrame(mydata2, columns=head2)\n",
        "df2"
      ]
    },
    {
      "cell_type": "code",
      "execution_count": null,
      "id": "d881b807",
      "metadata": {
        "id": "d881b807",
        "outputId": "27fb39ac-2e43-47d4-b083-501fb84e39b5"
      },
      "outputs": [
        {
          "data": {
            "text/html": [
              "<div>\n",
              "<style scoped>\n",
              "    .dataframe tbody tr th:only-of-type {\n",
              "        vertical-align: middle;\n",
              "    }\n",
              "\n",
              "    .dataframe tbody tr th {\n",
              "        vertical-align: top;\n",
              "    }\n",
              "\n",
              "    .dataframe thead th {\n",
              "        text-align: right;\n",
              "    }\n",
              "</style>\n",
              "<table border=\"1\" class=\"dataframe\">\n",
              "  <thead>\n",
              "    <tr style=\"text-align: right;\">\n",
              "      <th></th>\n",
              "      <th>P[A₁ is the least preferred option]</th>\n",
              "      <th>P[A₂ is the least preferred option]</th>\n",
              "      <th>P[A₃ is the least preferred option]</th>\n",
              "    </tr>\n",
              "  </thead>\n",
              "  <tbody>\n",
              "    <tr>\n",
              "      <th>0</th>\n",
              "      <td>0.331333</td>\n",
              "      <td>0.343</td>\n",
              "      <td>0.325667</td>\n",
              "    </tr>\n",
              "  </tbody>\n",
              "</table>\n",
              "</div>"
            ],
            "text/plain": [
              "   P[A₁ is the least preferred option]  P[A₂ is the least preferred option]  \\\n",
              "0                             0.331333                                0.343   \n",
              "\n",
              "   P[A₃ is the least preferred option]  \n",
              "0                             0.325667  "
            ]
          },
          "execution_count": 10,
          "metadata": {},
          "output_type": "execute_result"
        }
      ],
      "source": [
        "head3=[\"P[A1 is the least preferred option]\".translate(SUB), \"P[A2 is the least preferred option]\".translate(SUB), \"P[A3 is the least preferred option]\".translate(SUB)]\n",
        "mydata3=[[worst_best[0][3]+worst_best[0][5],worst_best[0][1]+worst_best[0][4],worst_best[0][2]+worst_best[0][0]]]  #the probabilities for the scenarios where options A1, A2, F are the most preferred ones\n",
        "df3=pd.DataFrame(mydata3, columns=head3)\n",
        "df3"
      ]
    },
    {
      "cell_type": "code",
      "execution_count": null,
      "id": "68cb6fca",
      "metadata": {
        "id": "68cb6fca",
        "outputId": "9feb7474-1d13-411c-b5ac-91ef5222beda"
      },
      "outputs": [
        {
          "data": {
            "text/html": [
              "<div>\n",
              "<style scoped>\n",
              "    .dataframe tbody tr th:only-of-type {\n",
              "        vertical-align: middle;\n",
              "    }\n",
              "\n",
              "    .dataframe tbody tr th {\n",
              "        vertical-align: top;\n",
              "    }\n",
              "\n",
              "    .dataframe thead th {\n",
              "        text-align: right;\n",
              "    }\n",
              "</style>\n",
              "<table border=\"1\" class=\"dataframe\">\n",
              "  <thead>\n",
              "    <tr style=\"text-align: right;\">\n",
              "      <th></th>\n",
              "      <th>A₁ most preferred / mean time</th>\n",
              "      <th>A₂ most preferred / mean time</th>\n",
              "      <th>A₃ most preferred / mean time</th>\n",
              "    </tr>\n",
              "  </thead>\n",
              "  <tbody>\n",
              "    <tr>\n",
              "      <th>0</th>\n",
              "      <td>0.74874</td>\n",
              "      <td>0.701489</td>\n",
              "      <td>0.718226</td>\n",
              "    </tr>\n",
              "  </tbody>\n",
              "</table>\n",
              "</div>"
            ],
            "text/plain": [
              "   A₁ most preferred / mean time  A₂ most preferred / mean time  \\\n",
              "0                        0.74874                       0.701489   \n",
              "\n",
              "   A₃ most preferred / mean time  \n",
              "0                       0.718226  "
            ]
          },
          "execution_count": 11,
          "metadata": {},
          "output_type": "execute_result"
        }
      ],
      "source": [
        "head4=[\"A1 most preferred / mean time\".translate(SUB),\"A2 most preferred / mean time\".translate(SUB),\"A3 most preferred / mean time\".translate(SUB)]\n",
        "mydata4=[worst_best[1]]  #the mean of the times determining the choice of options A1, A2, F as the most preferred one respectively\n",
        "df4=pd.DataFrame(mydata4, columns=head4)\n",
        "df4"
      ]
    },
    {
      "cell_type": "code",
      "execution_count": null,
      "id": "65b8d705",
      "metadata": {
        "id": "65b8d705",
        "outputId": "db2ba264-0f1e-4b28-b67c-f38986f1cc2d"
      },
      "outputs": [
        {
          "data": {
            "text/html": [
              "<div>\n",
              "<style scoped>\n",
              "    .dataframe tbody tr th:only-of-type {\n",
              "        vertical-align: middle;\n",
              "    }\n",
              "\n",
              "    .dataframe tbody tr th {\n",
              "        vertical-align: top;\n",
              "    }\n",
              "\n",
              "    .dataframe thead th {\n",
              "        text-align: right;\n",
              "    }\n",
              "</style>\n",
              "<table border=\"1\" class=\"dataframe\">\n",
              "  <thead>\n",
              "    <tr style=\"text-align: right;\">\n",
              "      <th></th>\n",
              "      <th>A₁ least preferred / mean time</th>\n",
              "      <th>A₂ least preferred / mean time</th>\n",
              "      <th>A₃ least preferred / mean time</th>\n",
              "    </tr>\n",
              "  </thead>\n",
              "  <tbody>\n",
              "    <tr>\n",
              "      <th>0</th>\n",
              "      <td>0.34</td>\n",
              "      <td>0.33</td>\n",
              "      <td>0.33</td>\n",
              "    </tr>\n",
              "  </tbody>\n",
              "</table>\n",
              "</div>"
            ],
            "text/plain": [
              "   A₁ least preferred / mean time  A₂ least preferred / mean time  \\\n",
              "0                            0.34                            0.33   \n",
              "\n",
              "   A₃ least preferred / mean time  \n",
              "0                            0.33  "
            ]
          },
          "execution_count": 12,
          "metadata": {},
          "output_type": "execute_result"
        }
      ],
      "source": [
        "head5=[\"A1 least preferred / mean time\".translate(SUB),\"A2 least preferred / mean time\".translate(SUB),\"A3 least preferred / mean time\".translate(SUB)]  #the mean of the times determining the choice of options A1, A2, F as the most preferred one respectively\n",
        "mydata5=[worst_best[2]]\n",
        "df5=pd.DataFrame(mydata2, columns=head5)\n",
        "df5"
      ]
    },
    {
      "cell_type": "markdown",
      "id": "3d39025a",
      "metadata": {
        "id": "3d39025a"
      },
      "source": [
        "Find the mean of the stopping times in each episode:"
      ]
    },
    {
      "cell_type": "code",
      "execution_count": null,
      "id": "725d991a",
      "metadata": {
        "id": "725d991a",
        "outputId": "b3e5d079-c436-42fe-d554-3cf5fb851b9e"
      },
      "outputs": [
        {
          "data": {
            "text/plain": [
              "'The average durations of the first and second episode of the process are 0.5043467536017388 and 0.2187310412874924 respectively'"
            ]
          },
          "execution_count": 13,
          "metadata": {},
          "output_type": "execute_result"
        }
      ],
      "source": [
        "info_episodes"
      ]
    },
    {
      "cell_type": "markdown",
      "id": "f3536792",
      "metadata": {
        "id": "f3536792"
      },
      "source": [
        "Distribution of stopping times of each episode"
      ]
    },
    {
      "cell_type": "code",
      "execution_count": null,
      "id": "71a00aae",
      "metadata": {
        "id": "71a00aae",
        "outputId": "431788ee-1e2b-4165-defe-0acd042d68a5"
      },
      "outputs": [
        {
          "data": {
            "text/plain": [
              "<matplotlib.legend.Legend at 0x25c3644baf0>"
            ]
          },
          "execution_count": 14,
          "metadata": {},
          "output_type": "execute_result"
        },
        {
          "data": {
            "image/png": "[encoded data removed]",
            "text/plain": [
              "<Figure size 600x600 with 3 Axes>"
            ]
          },
          "metadata": {},
          "output_type": "display_data"
        }
      ],
      "source": [
        "episodes_new_Cube3=pd.DataFrame({\"Episode 1\": episodes[0], \"Episode 2\": episodes[1]})\n",
        "sns.jointplot(x=\"Episode 1\",y=\"Episode 2\", data=episodes_new_Cube3,color=\"olivedrab\",label=r\"$\\mu_{1}=0$,$\\mu_{2}=0$,$\\mu_{3}=0$,$\\sigma_{11}=1$,$\\sigma_{22}=1$,$\\sigma_{33}=1$\")\n",
        "plt.legend()"
      ]
    }
  ],
  "metadata": {
    "kernelspec": {
      "display_name": "Python 3 (ipykernel)",
      "language": "python",
      "name": "python3"
    },
    "language_info": {
      "codemirror_mode": {
        "name": "ipython",
        "version": 3
      },
      "file_extension": ".py",
      "mimetype": "text/x-python",
      "name": "python",
      "nbconvert_exporter": "python",
      "pygments_lexer": "ipython3",
      "version": "3.10.9"
    },
    "colab": {
      "provenance": [],
      "include_colab_link": true
    }
  },
  "nbformat": 4,
  "nbformat_minor": 5
}