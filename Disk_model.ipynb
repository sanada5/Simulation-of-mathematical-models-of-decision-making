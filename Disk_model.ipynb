{
  "cells": [
    {
      "cell_type": "markdown",
      "metadata": {
        "id": "view-in-github",
        "colab_type": "text"
      },
      "source": [
        "<a href=\"https://colab.research.google.com/github/sanada5/Simulation-of-mathematical-models-of-decision-making/blob/main/Disk_model.ipynb\" target=\"_parent\"><img src=\"https://colab.research.google.com/assets/colab-badge.svg\" alt=\"Open In Colab\"/></a>"
      ]
    },
    {
      "cell_type": "markdown",
      "id": "d2a58803",
      "metadata": {
        "id": "d2a58803"
      },
      "source": [
        "# Disk model"
      ]
    },
    {
      "cell_type": "code",
      "execution_count": null,
      "id": "59ff2bcc",
      "metadata": {
        "id": "59ff2bcc"
      },
      "outputs": [],
      "source": [
        "import numpy as np\n",
        "import random\n",
        "import math\n",
        "from tabulate import tabulate\n",
        "SUB = str.maketrans(\"0123456789\", \"₀₁₂₃₄₅₆₇₈₉\")\n",
        "import seaborn as sns\n",
        "import matplotlib.pyplot as plt\n",
        "import pandas as pd"
      ]
    },
    {
      "cell_type": "code",
      "execution_count": null,
      "id": "09b3ab34",
      "metadata": {
        "id": "09b3ab34"
      },
      "outputs": [],
      "source": [
        "#One can apply this code to choose a random angle which lies between 0 and pi/2\n",
        "#a=list(np.linspace(0,np.pi/2,100))\n",
        "#a.remove(a[0])\n",
        "#a.remove(a[len(a)-1])\n",
        "#alpha=random.choices(a, k=1)\n",
        "alpha=[np.pi/4]  #we choose this alpha"
      ]
    },
    {
      "cell_type": "markdown",
      "id": "1392a547",
      "metadata": {
        "id": "1392a547"
      },
      "source": [
        "Wiener Process;\n",
        "\n",
        "-Wiener(n, 2, T).T[0]- the first independent Wiener proces\n",
        "\n",
        "-Wiener(n, 2, T). T[1]- the second independent Wiener process"
      ]
    },
    {
      "cell_type": "code",
      "execution_count": null,
      "id": "1e6e4c35",
      "metadata": {
        "id": "1e6e4c35"
      },
      "outputs": [],
      "source": [
        "def Wiener(n, d, T):  #n is the number of time steps, d is the dimension of the Wiener process and T is the end time of simulation\n",
        "    times=np.linspace(0, T, n)  #equally distanced n time steps\n",
        "    dt=times[1]-times[0]\n",
        "    dB=np.sqrt(dt)*np.random.normal(size=(n-1, d)) #dB=Wt2-Wt1 has a normal distribution with mean 0 and variance t2-t1=dt\n",
        "    B0=np.zeros(shape=(1,d))    #Wiener process starts at 0\n",
        "    B=np.concatenate((B0,np.cumsum(dB, axis=0)), axis=0) #to find the Wt1, we add up all differences till Wt1-W(t1-dt)\n",
        "    return B"
      ]
    },
    {
      "cell_type": "code",
      "execution_count": null,
      "id": "8df3b083",
      "metadata": {
        "id": "8df3b083"
      },
      "outputs": [],
      "source": [
        "def sin(x):   #crucial functions for this model\n",
        "    return np.sin(x)\n",
        "\n",
        "def cos(x):\n",
        "    return np.cos(x)"
      ]
    },
    {
      "cell_type": "code",
      "execution_count": null,
      "id": "534475f0",
      "metadata": {
        "id": "534475f0"
      },
      "outputs": [],
      "source": [
        "#N=the number of the simulations of the process (of the for loop)\n",
        "#time=ending time of the process\n",
        "def Diskmodel(time, N, n, mu1, mu2, s11, s22, mu, s): #n is the number of time steps, (mu1, mu2) is the drift vector; ((s11, 0),(0, s22)) is the sigma matrix; mu and s are included in the circular Wiener process\n",
        "    times=np.linspace(0, time, n)   #timestep is time/n\n",
        "    worst_best={\"A1A2F\":0, \"A1FA2\":0, \"A2A1F\":0, \"A2FA1\":0, \"FA1A2\":0, \"FA2A1\":0}\n",
        "    result={\"Option1\":0, \"Option2\":0, \"Fall_back_option\":0} #dictionary to keep record of the times each of the option is chosen\n",
        "    stopping_times=[]\n",
        "    episodes=np.zeros((2, N))  #record the time each episode of the process ends\n",
        "    times_A1_favorite=[]\n",
        "    times_A2_favorite=[]\n",
        "    times_F_favorite=[]\n",
        "    times_A1_least_favorite=[]\n",
        "    times_A2_least_favorite=[]\n",
        "    times_F_least_favorite=[]\n",
        "    alpha1=alpha[0]   #fix the randomly chosen alpha angle\n",
        "    for i in range(N):\n",
        "    #X(t)=(X1(t), X2(t))\n",
        "    #X1=mu1*t+s11*W1,\n",
        "    #X2=mu2*t+s22*W2,\n",
        "        X1=np.ones(n)*mu1*times+s11*np.ones(n)*np.array(Wiener(n, 2, time).T[0]) #array code which finds the value of X1 for each t in times\n",
        "        X2=np.ones(n)*mu2*times+s22*np.ones(n)*np.array(Wiener(n, 2, time).T[1])  #array code which finds the value of X2 for each t in times\n",
        "        X1new=X1*X1\n",
        "        X2new=X2*X2\n",
        "        Y=X1new+X2new\n",
        "        a=[element for element in Y if element>=1]  #vectors which touched the disc boundary\n",
        "        k1=list(Y).index(a[0])    #the index of the first vector which touched the disc boundary\n",
        "        angle=math.atan2(X2[k1], X1[k1])     #get the angle of such vector\n",
        "        if - alpha1<=angle<=alpha1:          #condition 1, the process hit the accept boundary of the first option\n",
        "            stopping_times.append(times[k1])    #the process is over; obtain the stopping time\n",
        "            episodes[0,i]=times[k1]\n",
        "            episodes[1,i]=0\n",
        "            result[\"Option1\"]+=1              #based on the range of angles, the first option was chosen\n",
        "            val1=angle*np.ones(len(times))+mu*times+s*np.array(Wiener(n,1,time).T[0])\n",
        "            val2=angle*np.ones(len(times))+mu*times+s*np.array(Wiener(n,1,time).T[0])\n",
        "            a1=list(map(cos, val1))    #the first component of the vector (circular Wiener process with drift)\n",
        "            a2=list(map(sin, val2))    #the second component of the vector (circular Wiener process with drift)\n",
        "            a=[k for k in range(len(times)) if alpha1<=math.atan2(a2[k],a1[k])<=np.pi-alpha1 or -np.pi+alpha1<=math.atan2(a2[k],a1[k])<=-alpha1]  #the conditions of the\n",
        "            times_A1_favorite.append(times[k1])\n",
        "\n",
        "            if len(a)>0:\n",
        "\n",
        "                if alpha1<=math.atan2(a2[a[0]], a1[a[0]])<=np.pi-alpha1:  #the accept boundary of the second option is hit\n",
        "\n",
        "                    worst_best[\"A1A2F\"]+=1\n",
        "                    times_F_least_favorite.append(times[k1]+times[a[0]])\n",
        "                elif -np.pi+alpha1<=math.atan2(a2[a[0]], a1[a[0]])<=-alpha1:  #the reject boundary of the second option is hit\n",
        "\n",
        "                    worst_best[\"A1FA2\"]+=1\n",
        "                    times_A2_least_favorite.append(times[k1]+times[a[0]])\n",
        "        elif alpha1<=angle<=np.pi-alpha1:     #condition 2; the process hit the accept boundary of the second option\n",
        "            stopping_times.append(times[k1])   #stopping time\n",
        "            episodes[0,i]=times[k1]\n",
        "            episodes[1,i]=0\n",
        "            result[\"Option2\"]+=1              #option 2 is chosen\n",
        "            val1=angle*np.ones(len(times))+mu*times+s*np.array(Wiener(n,1,time).T[0])\n",
        "            val2=angle*np.ones(len(times))+mu*times+s*np.array(Wiener(n,1,time).T[0])\n",
        "            a1=list(map(cos, val1))   #the first component of the circular Wiener process with drift\n",
        "            a2=list(map(sin, val2))    #the second component of the circular Wiener proces with drift\n",
        "            b=[k for k in range(len(times)) if -alpha1<=math.atan2(a2[k], a1[k])<=alpha1 or np.pi-alpha1<=math.atan2(a2[k], a1[k])<=np.pi or -np.pi<=math.atan2(a2[k], a1[k])<=-np.pi+alpha1]  #the conditions describing the angles in the underlying process\n",
        "            times_A2_favorite.append(times[k1])\n",
        "            if len(b)>0:\n",
        "                if -alpha1<=math.atan2(a2[b[0]], a1[b[0]])<=alpha1:  #the accept boundary of the first option is hit\n",
        "                    worst_best[\"A2A1F\"]+=1\n",
        "                    times_F_least_favorite.append(times[k1]+times[b[0]])\n",
        "\n",
        "                elif np.pi-alpha1<=math.atan2(a2[b[0]], a1[b[0]])<=np.pi or -np.pi<=math.atan2(a2[b[0]], a1[b[0]])<=-np.pi+alpha1:  #the reject boundary of the first option is hit\n",
        "\n",
        "                    worst_best[\"A2FA1\"]+=1\n",
        "                    times_A1_least_favorite.append(times[k1]+times[b[0]])\n",
        "        elif np.pi-alpha1<=angle<=np.pi or -np.pi<=angle<=-np.pi+alpha1:     #condition 3, the process first hits the reject boundary of the first option; process continues as a circular Wiener process\n",
        "            #val1=np.array(v1*times)+np.array(v2*np.array(Wiener(n,1,time).T[0]))\n",
        "            val1=angle*np.ones(len(times))+mu*times+s*np.array(Wiener(n,1,time).T[0])\n",
        "            val2=angle*np.ones(len(times))+mu*times+s*np.array(Wiener(n,1,time).T[0])\n",
        "            a1=list(map(cos, val1))    #the first component of the vector (circular Wiener process with drift)\n",
        "            a2=list(map(sin, val2))    #the second component of the vector (circular Wiener process with drift)\n",
        "            a=[k for k in range(len(times)) if alpha1<=math.atan2(a2[k],a1[k])<=np.pi-alpha1 or -np.pi+alpha1<=math.atan2(a2[k],a1[k])<=-alpha1]  #the conditions of the underlying process\n",
        "            times_A1_least_favorite.append(times[k1])\n",
        "            episodes[0,i]=times[k1]\n",
        "            if len(a)>0:\n",
        "                stopping_times.append(times[a[0]]+times[k1])   #this is the stopping time of the process\n",
        "                if alpha1<=math.atan2(a2[a[0]], a1[a[0]])<=np.pi-alpha1:  #the accept boundary of the second option is hit\n",
        "                    result[\"Option2\"]+=1      #the second option is chosen\n",
        "                    worst_best[\"A2FA1\"]+=1\n",
        "                    times_A2_favorite.append(times[k1]+times[a[0]])\n",
        "                    episodes[1,i]=times[a[0]]\n",
        "                elif -np.pi+alpha1<=math.atan2(a2[a[0]], a1[a[0]])<=-alpha1:  #the reject boundary of the second option is hit\n",
        "                    result[\"Fall_back_option\"]+=1    #the fall back option is chosen\n",
        "                    worst_best[\"FA2A1\"]+=1\n",
        "                    times_F_favorite.append(times[k1]+times[a[0]])\n",
        "                    episodes[1,i]=times[a[0]]\n",
        "        else:  #the reject boundary of the second option is hit\n",
        "            val1=angle*np.ones(len(times))+mu*times+s*np.array(Wiener(n,1,time).T[0])\n",
        "            val2=angle*np.ones(len(times))+mu*times+s*np.array(Wiener(n,1,time).T[0])\n",
        "            a1=list(map(cos, val1))   #the first component of the circular Wiener process with drift\n",
        "            a2=list(map(sin, val2))    #the second component of the circular Wiener proces with drift\n",
        "            b=[k for k in range(len(times)) if -alpha1<=math.atan2(a2[k], a1[k])<=alpha1 or np.pi-alpha1<=math.atan2(a2[k], a1[k])<=np.pi or -np.pi<=math.atan2(a2[k], a1[k])<=-np.pi+alpha1]  #the conditions describing the angles in the underlying process\n",
        "            times_A2_least_favorite.append(times[k1])\n",
        "            episodes[0,i]=times[k1]\n",
        "            if len(b)>0:\n",
        "                stopping_times.append(times[b[0]]+times[k1])   #stopping time\n",
        "                if -alpha1<=math.atan2(a2[b[0]], a1[b[0]])<=alpha1:  #the accept boundary of the first option is hit\n",
        "                    result[\"Option1\"]+=1     #the process is over and the option 1 is chosen\n",
        "                    worst_best[\"A1FA2\"]+=1\n",
        "                    times_A1_favorite.append(times[k1]+times[b[0]])\n",
        "                    episodes[1,i]=times[b[0]]\n",
        "                elif np.pi-alpha1<=math.atan2(a2[b[0]], a1[b[0]])<=np.pi or -np.pi<=math.atan2(a2[b[0]], a1[b[0]])<=-np.pi+alpha1:  #the reject boundary of the first option is hit\n",
        "                    result[\"Fall_back_option\"]+=1  #process ends and the fall back option is chosen\n",
        "                    worst_best[\"FA1A2\"]+=1\n",
        "                    times_F_favorite.append(times[k1]+times[b[0]])\n",
        "                    episodes[1,i]=times[b[0]]\n",
        "    #return (\"The choice probabilities for option 1, option 2, and fall back option are {}, {}, and {} respectively. The mean of stoping times is {}. According to the paper, the choice probabilities for option 1, option 2, and fall back option are {}, {}, and {} respectively\").format(result[\"Option1\"]/N, result[\"Option2\"]/N, result[\"Fall_back_option\"]/N, np.mean(np.array(stoping_t\n",
        "    data=[[worst_best[\"A1A2F\"]/N, worst_best[\"A1FA2\"]/N,worst_best[\"A2A1F\"]/N, worst_best[\"A2FA1\"]/N,worst_best[\"FA1A2\"]/N, worst_best[\"FA2A1\"]/N],[np.mean(times_A1_favorite), np.mean(times_A2_favorite), np.mean(times_F_favorite)],[np.mean(times_A1_least_favorite), np.mean(times_A2_least_favorite), np.mean(times_F_least_favorite)]]\n",
        "    if [mu1, mu2, s11, s22,mu,s]==[0,0,1,1,0,1]:\n",
        "        return \"The choice probabilities for option 1, option 2, and fall back option are {}, {}, and {} respectively. The mean of reaction time is {}. According to the paper, the choice probabilities for option 1, option 2, and fall-back option are {}, {}, and {} respectively\".format(result[\"Option1\"]/N, result[\"Option2\"]/N, result[\"Fall_back_option\"]/N, np.mean(stopping_times), alpha1/(2*np.pi)+0.25, 0.25+((np.pi/2)-alpha1)/(2*np.pi), 0.25), stopping_times, data, episodes, \"The mean of the stopping times of the first and second episode of the process are {} and {} respectively\".format(np.mean(episodes[0]), np.mean(episodes[1]))\n",
        "    else:\n",
        "        return \"The choice probabilities for option 1, option 2, and fall-back option are {}, {}, and {} respectively. The mean of reaction time is {}.\".format(result[\"Option1\"]/N, result[\"Option2\"]/N, result[\"Fall_back_option\"]/N, np.mean(stopping_times)), stopping_times, data, episodes, \"The average durations of the first and second episode of the process are {} and {} respectively\".format(np.mean(episodes[0]), np.mean(episodes[1]))"
      ]
    },
    {
      "cell_type": "code",
      "execution_count": null,
      "id": "4a11f985",
      "metadata": {
        "id": "4a11f985"
      },
      "outputs": [],
      "source": [
        "summary, reaction_time, worst_best, episodes, info_episodes=Diskmodel(100, 3000, 20000,0, 0, 1, 1,0,1)\n"
      ]
    },
    {
      "cell_type": "markdown",
      "id": "868eb059",
      "metadata": {
        "id": "868eb059"
      },
      "source": [
        "Find the choice probability for each option and mean of the reaction time of the process:"
      ]
    },
    {
      "cell_type": "code",
      "execution_count": null,
      "id": "bfa40328",
      "metadata": {
        "id": "bfa40328",
        "outputId": "51e84f28-ce9a-4655-e9d1-c994472bbad0"
      },
      "outputs": [
        {
          "data": {
            "text/plain": [
              "'The choice probabilities for option 1, option 2, and fall back option are 0.38466666666666666, 0.367, and 0.24833333333333332 respectively. The mean of reaction time is 0.823621181059053. According to the paper, the choice probabilities for option 1, option 2, and fall-back option are 0.375, 0.375, and 0.25 respectively'"
            ]
          },
          "execution_count": 7,
          "metadata": {},
          "output_type": "execute_result"
        }
      ],
      "source": [
        "summary"
      ]
    },
    {
      "cell_type": "markdown",
      "id": "f7f5f1dd",
      "metadata": {
        "id": "f7f5f1dd"
      },
      "source": [
        "Display the probability distribution of the reaction time random variable (the vertical line denotes the mean):"
      ]
    },
    {
      "cell_type": "code",
      "execution_count": null,
      "id": "760ed961",
      "metadata": {
        "id": "760ed961",
        "outputId": "8fef63ba-0890-4e75-d7cc-a31ce2a8a85e"
      },
      "outputs": [
        {
          "name": "stderr",
          "output_type": "stream",
          "text": [
            "No artists with labels found to put in legend.  Note that artists whose label start with an underscore are ignored when legend() is called with no argument.\n"
          ]
        },
        {
          "data": {
            "image/png": "[encoded data removed]",
            "text/plain": [
              "<Figure size 500x500 with 1 Axes>"
            ]
          },
          "metadata": {},
          "output_type": "display_data"
        }
      ],
      "source": [
        "sns.displot(data=reaction_time,kind='kde', color='red')\n",
        "plt.xlabel('Reaction Time')\n",
        "plt.ylabel('Density')\n",
        "plt.legend(title=r\"$\\mu_{1}=0$, $\\mu_{2}=0$, $\\sigma_{11}=1$, $\\sigma_{22}=1$\")\n",
        "plt.show()"
      ]
    },
    {
      "cell_type": "markdown",
      "id": "6cc05cf4",
      "metadata": {
        "id": "6cc05cf4"
      },
      "source": [
        "Find the choice probabilities of each of worst-best scenarios and of the possibilities describing each of the options as being the most/least preferred, and the corresponding mean time:"
      ]
    },
    {
      "cell_type": "code",
      "execution_count": null,
      "id": "58033cff",
      "metadata": {
        "id": "58033cff",
        "outputId": "9bdc7173-0f34-4d8a-905d-6b8354266ecb"
      },
      "outputs": [
        {
          "data": {
            "text/html": [
              "<div>\n",
              "<style scoped>\n",
              "    .dataframe tbody tr th:only-of-type {\n",
              "        vertical-align: middle;\n",
              "    }\n",
              "\n",
              "    .dataframe tbody tr th {\n",
              "        vertical-align: top;\n",
              "    }\n",
              "\n",
              "    .dataframe thead th {\n",
              "        text-align: right;\n",
              "    }\n",
              "</style>\n",
              "<table border=\"1\" class=\"dataframe\">\n",
              "  <thead>\n",
              "    <tr style=\"text-align: right;\">\n",
              "      <th></th>\n",
              "      <th>P[A₁A₂F]</th>\n",
              "      <th>P[A₁FA₂]</th>\n",
              "      <th>P[A₂A₁F]</th>\n",
              "      <th>P[A₂FA₁]</th>\n",
              "      <th>P[FA₁A₂]</th>\n",
              "      <th>P[FA₂A₁]</th>\n",
              "    </tr>\n",
              "  </thead>\n",
              "  <tbody>\n",
              "    <tr>\n",
              "      <th>0</th>\n",
              "      <td>0.126667</td>\n",
              "      <td>0.258</td>\n",
              "      <td>0.119</td>\n",
              "      <td>0.248</td>\n",
              "      <td>0.120333</td>\n",
              "      <td>0.128</td>\n",
              "    </tr>\n",
              "  </tbody>\n",
              "</table>\n",
              "</div>"
            ],
            "text/plain": [
              "   P[A₁A₂F]  P[A₁FA₂]  P[A₂A₁F]  P[A₂FA₁]  P[FA₁A₂]  P[FA₂A₁]\n",
              "0  0.126667     0.258     0.119     0.248  0.120333     0.128"
            ]
          },
          "execution_count": 9,
          "metadata": {},
          "output_type": "execute_result"
        }
      ],
      "source": [
        "head1=[\"P[A1A2F]\".translate(SUB), \"P[A1FA2]\".translate(SUB), \"P[A2A1F]\".translate(SUB), \"P[A2FA1]\".translate(SUB), \"P[FA1A2]\".translate(SUB), \"P[FA2A1]\".translate(SUB)]\n",
        "mydata1=[worst_best[0]] #the probabilities of each of the worst_best scenarios\n",
        "df1=pd.DataFrame(mydata1,columns=head1)\n",
        "df1"
      ]
    },
    {
      "cell_type": "code",
      "execution_count": null,
      "id": "dd5a7c16",
      "metadata": {
        "id": "dd5a7c16",
        "outputId": "edf9c025-9567-41f8-9e1b-c11cabd32efd"
      },
      "outputs": [
        {
          "data": {
            "text/html": [
              "<div>\n",
              "<style scoped>\n",
              "    .dataframe tbody tr th:only-of-type {\n",
              "        vertical-align: middle;\n",
              "    }\n",
              "\n",
              "    .dataframe tbody tr th {\n",
              "        vertical-align: top;\n",
              "    }\n",
              "\n",
              "    .dataframe thead th {\n",
              "        text-align: right;\n",
              "    }\n",
              "</style>\n",
              "<table border=\"1\" class=\"dataframe\">\n",
              "  <thead>\n",
              "    <tr style=\"text-align: right;\">\n",
              "      <th></th>\n",
              "      <th>P[A₁ is the most preferred option]</th>\n",
              "      <th>P[A₂ is the most preferred option]</th>\n",
              "      <th>P[F is the most preferred option]</th>\n",
              "    </tr>\n",
              "  </thead>\n",
              "  <tbody>\n",
              "    <tr>\n",
              "      <th>0</th>\n",
              "      <td>0.384667</td>\n",
              "      <td>0.367</td>\n",
              "      <td>0.248333</td>\n",
              "    </tr>\n",
              "  </tbody>\n",
              "</table>\n",
              "</div>"
            ],
            "text/plain": [
              "   P[A₁ is the most preferred option]  P[A₂ is the most preferred option]  \\\n",
              "0                            0.384667                               0.367   \n",
              "\n",
              "   P[F is the most preferred option]  \n",
              "0                           0.248333  "
            ]
          },
          "execution_count": 10,
          "metadata": {},
          "output_type": "execute_result"
        }
      ],
      "source": [
        "head2=[\"P[A1 is the most preferred option]\".translate(SUB), \"P[A2 is the most preferred option]\".translate(SUB), \"P[F is the most preferred option]\".translate(SUB)]\n",
        "mydata2=[[worst_best[0][0]+worst_best[0][1],worst_best[0][2]+worst_best[0][3], worst_best[0][4]+worst_best[0][5]]] #the probabilities for the scenarios where options A1, A2, F are the most preferred ones\n",
        "df2=pd.DataFrame(mydata2, columns=head2)\n",
        "df2"
      ]
    },
    {
      "cell_type": "code",
      "execution_count": null,
      "id": "26e51880",
      "metadata": {
        "id": "26e51880",
        "outputId": "e4966bef-2fbc-4aa1-e759-077c94729c84"
      },
      "outputs": [
        {
          "data": {
            "text/html": [
              "<div>\n",
              "<style scoped>\n",
              "    .dataframe tbody tr th:only-of-type {\n",
              "        vertical-align: middle;\n",
              "    }\n",
              "\n",
              "    .dataframe tbody tr th {\n",
              "        vertical-align: top;\n",
              "    }\n",
              "\n",
              "    .dataframe thead th {\n",
              "        text-align: right;\n",
              "    }\n",
              "</style>\n",
              "<table border=\"1\" class=\"dataframe\">\n",
              "  <thead>\n",
              "    <tr style=\"text-align: right;\">\n",
              "      <th></th>\n",
              "      <th>P[A₁ is the least preferred option]</th>\n",
              "      <th>P[A₂ is the least preferred option]</th>\n",
              "      <th>P[F is the least preferred option]</th>\n",
              "    </tr>\n",
              "  </thead>\n",
              "  <tbody>\n",
              "    <tr>\n",
              "      <th>0</th>\n",
              "      <td>0.376</td>\n",
              "      <td>0.378333</td>\n",
              "      <td>0.245667</td>\n",
              "    </tr>\n",
              "  </tbody>\n",
              "</table>\n",
              "</div>"
            ],
            "text/plain": [
              "   P[A₁ is the least preferred option]  P[A₂ is the least preferred option]  \\\n",
              "0                                0.376                             0.378333   \n",
              "\n",
              "   P[F is the least preferred option]  \n",
              "0                            0.245667  "
            ]
          },
          "execution_count": 11,
          "metadata": {},
          "output_type": "execute_result"
        }
      ],
      "source": [
        "head3=[\"P[A1 is the least preferred option]\".translate(SUB), \"P[A2 is the least preferred option]\".translate(SUB), \"P[F is the least preferred option]\".translate(SUB)]\n",
        "mydata3=[[worst_best[0][3]+worst_best[0][5],worst_best[0][1]+worst_best[0][4],worst_best[0][2]+worst_best[0][0]]]  #the probabilities for the scenarios where options A1, A2, F are the most preferred ones\n",
        "df3=pd.DataFrame(mydata3, columns=head3)\n",
        "df3"
      ]
    },
    {
      "cell_type": "code",
      "execution_count": null,
      "id": "b76c26c1",
      "metadata": {
        "id": "b76c26c1",
        "outputId": "0d499e94-9532-419d-a563-9fc2bb9ae903"
      },
      "outputs": [
        {
          "data": {
            "text/html": [
              "<div>\n",
              "<style scoped>\n",
              "    .dataframe tbody tr th:only-of-type {\n",
              "        vertical-align: middle;\n",
              "    }\n",
              "\n",
              "    .dataframe tbody tr th {\n",
              "        vertical-align: top;\n",
              "    }\n",
              "\n",
              "    .dataframe thead th {\n",
              "        text-align: right;\n",
              "    }\n",
              "</style>\n",
              "<table border=\"1\" class=\"dataframe\">\n",
              "  <thead>\n",
              "    <tr style=\"text-align: right;\">\n",
              "      <th></th>\n",
              "      <th>A₁ most preferred / mean time</th>\n",
              "      <th>A₂ most preferred / mean time</th>\n",
              "      <th>F most preferred / mean time</th>\n",
              "    </tr>\n",
              "  </thead>\n",
              "  <tbody>\n",
              "    <tr>\n",
              "      <th>0</th>\n",
              "      <td>0.725439</td>\n",
              "      <td>0.736976</td>\n",
              "      <td>1.103753</td>\n",
              "    </tr>\n",
              "  </tbody>\n",
              "</table>\n",
              "</div>"
            ],
            "text/plain": [
              "   A₁ most preferred / mean time  A₂ most preferred / mean time  \\\n",
              "0                       0.725439                       0.736976   \n",
              "\n",
              "   F most preferred / mean time  \n",
              "0                      1.103753  "
            ]
          },
          "execution_count": 12,
          "metadata": {},
          "output_type": "execute_result"
        }
      ],
      "source": [
        "head4=[\"A1 most preferred / mean time\".translate(SUB),\"A2 most preferred / mean time\".translate(SUB),\"F most preferred / mean time\".translate(SUB)]\n",
        "mydata4=[worst_best[1]]  #the mean of the times determining the choice of options A1, A2, F as the most preferred one respectively\n",
        "df4=pd.DataFrame(mydata4, columns=head4)\n",
        "df4"
      ]
    },
    {
      "cell_type": "code",
      "execution_count": null,
      "id": "bc45cfe2",
      "metadata": {
        "id": "bc45cfe2",
        "outputId": "0b0991a7-2d05-4e16-9e2c-8e688151ec15"
      },
      "outputs": [
        {
          "data": {
            "text/html": [
              "<div>\n",
              "<style scoped>\n",
              "    .dataframe tbody tr th:only-of-type {\n",
              "        vertical-align: middle;\n",
              "    }\n",
              "\n",
              "    .dataframe tbody tr th {\n",
              "        vertical-align: top;\n",
              "    }\n",
              "\n",
              "    .dataframe thead th {\n",
              "        text-align: right;\n",
              "    }\n",
              "</style>\n",
              "<table border=\"1\" class=\"dataframe\">\n",
              "  <thead>\n",
              "    <tr style=\"text-align: right;\">\n",
              "      <th></th>\n",
              "      <th>A₁ least preferred / mean time</th>\n",
              "      <th>A₂ least preferred / mean time</th>\n",
              "      <th>F least preferred / mean time</th>\n",
              "    </tr>\n",
              "  </thead>\n",
              "  <tbody>\n",
              "    <tr>\n",
              "      <th>0</th>\n",
              "      <td>0.742852</td>\n",
              "      <td>0.736548</td>\n",
              "      <td>1.059293</td>\n",
              "    </tr>\n",
              "  </tbody>\n",
              "</table>\n",
              "</div>"
            ],
            "text/plain": [
              "   A₁ least preferred / mean time  A₂ least preferred / mean time  \\\n",
              "0                        0.742852                        0.736548   \n",
              "\n",
              "   F least preferred / mean time  \n",
              "0                       1.059293  "
            ]
          },
          "execution_count": 13,
          "metadata": {},
          "output_type": "execute_result"
        }
      ],
      "source": [
        "head5=[\"A1 least preferred / mean time\".translate(SUB),\"A2 least preferred / mean time\".translate(SUB),\"F least preferred / mean time\".translate(SUB)]  #the mean of the times determining the choice of options A1, A2, F as the most preferred one respectively\n",
        "mydata5=[worst_best[2]]\n",
        "df5=pd.DataFrame(mydata5, columns=head5)\n",
        "df5"
      ]
    },
    {
      "cell_type": "markdown",
      "id": "08484ab9",
      "metadata": {
        "id": "08484ab9"
      },
      "source": [
        "Find the mean of the stopping times in each episode:"
      ]
    },
    {
      "cell_type": "code",
      "execution_count": null,
      "id": "54c79290",
      "metadata": {
        "id": "54c79290",
        "outputId": "e83b8491-68fb-4b62-dec4-9fe74dc4de20"
      },
      "outputs": [
        {
          "name": "stdout",
          "output_type": "stream",
          "text": [
            "The mean of the stopping times of the first and second episode of the process are 0.5432671633581679 and 0.2803540177008851 respectively\n"
          ]
        }
      ],
      "source": [
        "print(info_episodes)"
      ]
    },
    {
      "cell_type": "markdown",
      "id": "e447cb0c",
      "metadata": {
        "id": "e447cb0c"
      },
      "source": [
        "Display the distribution of the stopping times of each of two episodes:"
      ]
    },
    {
      "cell_type": "code",
      "execution_count": null,
      "id": "9b5fd937",
      "metadata": {
        "id": "9b5fd937",
        "outputId": "373e3346-7ee3-4649-ed13-01bcebc669c0"
      },
      "outputs": [
        {
          "data": {
            "text/plain": [
              "<matplotlib.legend.Legend at 0x1fe12ea1240>"
            ]
          },
          "execution_count": 15,
          "metadata": {},
          "output_type": "execute_result"
        },
        {
          "data": {
            "image/png": "[encoded data removed]",
            "text/plain": [
              "<Figure size 600x600 with 3 Axes>"
            ]
          },
          "metadata": {},
          "output_type": "display_data"
        }
      ],
      "source": [
        "episodes_new_Disk=pd.DataFrame({\"Episode 1\": episodes[0], \"Episode 2\": episodes[1]})\n",
        "sns.jointplot(x=\"Episode 1\",y=\"Episode 2\", data=episodes_new_Disk, color=\"teal\", label=r\"$\\mu_{1}=0$,$\\mu_{2}=0$,$\\sigma_{11}=1$,$\\sigma_{22}=1$, $\\mu=0$, $\\sigma=1$\")\n",
        "plt.legend()\n",
        "#plt.savefig(\"1.png\")"
      ]
    }
  ],
  "metadata": {
    "kernelspec": {
      "display_name": "Python 3 (ipykernel)",
      "language": "python",
      "name": "python3"
    },
    "language_info": {
      "codemirror_mode": {
        "name": "ipython",
        "version": 3
      },
      "file_extension": ".py",
      "mimetype": "text/x-python",
      "name": "python",
      "nbconvert_exporter": "python",
      "pygments_lexer": "ipython3",
      "version": "3.10.9"
    },
    "colab": {
      "provenance": [],
      "include_colab_link": true
    }
  },
  "nbformat": 4,
  "nbformat_minor": 5
}