{
  "cells": [
    {
      "cell_type": "markdown",
      "metadata": {
        "id": "view-in-github",
        "colab_type": "text"
      },
      "source": [
        "<a href=\"https://colab.research.google.com/github/sanada5/Simulation-of-mathematical-models-of-decision-making/blob/main/Cube_model_with_two_alternatives_and_one_fall_back_option.ipynb\" target=\"_parent\"><img src=\"https://colab.research.google.com/assets/colab-badge.svg\" alt=\"Open In Colab\"/></a>"
      ]
    },
    {
      "cell_type": "markdown",
      "id": "20add714",
      "metadata": {
        "id": "20add714"
      },
      "source": [
        "# Cube model with two alternatives and one fall-back option\n"
      ]
    },
    {
      "cell_type": "code",
      "execution_count": null,
      "id": "65cf057a",
      "metadata": {
        "id": "65cf057a"
      },
      "outputs": [],
      "source": [
        "import numpy as np\n",
        "import random\n",
        "import math\n",
        "from tabulate import tabulate\n",
        "SUB = str.maketrans(\"0123456789\", \"₀₁₂₃₄₅₆₇₈₉\")\n",
        "import seaborn as sns\n",
        "import matplotlib.pyplot as plt\n",
        "import pandas as pd"
      ]
    },
    {
      "cell_type": "markdown",
      "id": "ec575c2d",
      "metadata": {
        "id": "ec575c2d"
      },
      "source": [
        "\n",
        "\n",
        "Wiener Process;\n",
        "\n",
        "-Wiener(n, 2, T).T[0]- the first independent Wiener proces\n",
        "\n",
        "-Wiener(n, 2, T). T[1]- the second independent Wiener process\n"
      ]
    },
    {
      "cell_type": "code",
      "execution_count": null,
      "id": "dc00e4bf",
      "metadata": {
        "id": "dc00e4bf"
      },
      "outputs": [],
      "source": [
        "def Wiener(n, d, T):  #n- no of time steps, d-dimension of the Wiener process, T-the end time of simulation\n",
        "    times=np.linspace(0, T, n)  #equally distanced n time steps\n",
        "    dt=times[1]-times[0]\n",
        "    dB=np.sqrt(dt)*np.random.normal(size=(n-1, d)) #dB=Wt2-Wt1 has normal distribution of mean 0 and var t2-t1=dt\n",
        "    B0=np.zeros(shape=(1,d))    #Wiener process starts at 0\n",
        "    B=np.concatenate((B0,np.cumsum(dB, axis=0)), axis=0) #to find the Wt1, add up all differences until Wt1-W(t1-dt)\n",
        "    return B"
      ]
    },
    {
      "cell_type": "code",
      "execution_count": null,
      "id": "8ca0f80d",
      "metadata": {
        "id": "8ca0f80d"
      },
      "outputs": [],
      "source": [
        "#initial preference of the decision maker towards each alternative is neutral i.e., x0=(0,0)\n",
        "#(mu1, mu2) is the drift vector\n",
        "#Sigma matrix is a diagonal matrix: ((s11, 0),(0, s22))\n",
        "#time=ending time of the process\n",
        "#N=number of simulations\n",
        "def Cubemodel(time, N, n, d, mu1, mu2, s11, s22):\n",
        "    times=np.linspace(0, time, n)   #timestep is time/n\n",
        "    result={\"Option1\":0, \"Option2\":0, \"Fall_back_option\":0} #record of the number of times each of the options is chosen\n",
        "    stopping_times=[]                       #the times determining the termination of the process\n",
        "    episodes=np.zeros((2, N))  #record the time each episode of the process ends\n",
        "    worst_best={\"A1A2F\":0, \"A1FA2\":0, \"A2A1F\":0, \"A2FA1\":0, \"FA1A2\":0, \"FA2A1\":0}  #possible ranking of the options according to the preference\n",
        "    times_A1_favorite=[]\n",
        "    times_A2_favorite=[]\n",
        "    times_F_favorite=[]\n",
        "    times_A1_least_favorite=[]\n",
        "    times_A2_least_favorite=[]\n",
        "    times_F_least_favorite=[]\n",
        "    for i in range(N):\n",
        "        #X(t)=(X1(t), X2(t))  #accumulation process\n",
        "        #X1=mu1*t+s11*W1\n",
        "        X1=np.ones(n)*mu1*times+s11*np.ones(n)*np.array(Wiener(n, d, time).T[0]) #vectorized values of X1 for each t in times\n",
        "        #X2=mu2*t+s22*W2,\n",
        "        X2=np.ones(n)*mu2*times+s22*np.ones(n)*np.array(Wiener(n, d, time).T[1])  #vectorized values of X2 for each t in times\n",
        "        X1new=abs(X1)\n",
        "        X2new=abs(X2)\n",
        "        a=[k for k in X1new if k>=1]  #obtain those indices of values in X1 whose absolute value is >=1\n",
        "        b=[k for k in X2new if k>=1]  #obtain those indices of values in X2 whose\n",
        "        k1=list(X1new).index(a[0])    #take the first index of X1 sth in X1[k]>=1\n",
        "        k2=list(X2new).index(b[0])\n",
        "        k=min(k1,k2)  #one of the four boundaries is hit\n",
        "        m1=X2[k]   #the value of X2 at the end of the first episode which is the initial value of X2 in the second episode\n",
        "        m2=X1[k]    #the value of X1 at the end of the first episode\n",
        "    #possible cases\n",
        "        if m2>=1:   #the accept boundary of the first option is hit; the process ends, this option is chosen\n",
        "            result[\"Option1\"]+=1\n",
        "            times_A1_favorite.append(times[k])\n",
        "            stopping_times.append(times[k])\n",
        "            episodes[0,i]=times[k]  #this process ends in one episode\n",
        "            episodes[1, i]=0\n",
        "            X2_sub=m1*np.ones(n)+np.ones(n)*mu2*times+s22*np.ones(n)*np.array(Wiener(n, 1, time).T[0])\n",
        "            X2_sub1=abs(X2_sub)\n",
        "            a_sub=[l for l in range(len(X2_sub1)) if X2_sub1[l]>=1]\n",
        "            k_sub1=X2_sub[a_sub[0]]\n",
        "            if k_sub1>=1:\n",
        "                worst_best[\"A1A2F\"]+=1\n",
        "                times_F_least_favorite.append(times[k]+times[a_sub[0]])\n",
        "            else:\n",
        "                worst_best[\"A1FA2\"]+=1\n",
        "                times_A2_least_favorite.append(times[k]+times[a_sub[0]])\n",
        "        elif m1>=1:   #the accept boundary of the second option is hit\n",
        "            result[\"Option2\"]+=1\n",
        "            times_A2_favorite.append(times[k])\n",
        "            stopping_times.append(times[k])\n",
        "            episodes[0,i]=times[k]\n",
        "            episodes[1, i]=0\n",
        "            X1_sub=m2*np.ones(n)+np.ones(n)*mu1*times+s11*np.ones(n)*np.array(Wiener(n, 1, time).T[0]) #the process continues as one dimensional Wiener process with drift\n",
        "            X1_sub1=abs(X1_sub)\n",
        "            b_sub=[k for k in range(len(X1_sub1)) if X1_sub1[k]>=1]\n",
        "            k_sub2=X1_sub[b_sub[0]]\n",
        "            if k_sub2>=1:\n",
        "                worst_best[\"A2A1F\"]+=1\n",
        "                times_F_least_favorite.append(times[k]+times[b_sub[0]])\n",
        "            else:\n",
        "                worst_best[\"A2FA1\"]+=1\n",
        "                times_A1_least_favorite.append(times[k]+times[b_sub[0]])\n",
        "        elif m2<=-1:      #the reject boundary of the first option is hit, the process acts as a 1-d Wiener process with drift\n",
        "            times_A1_least_favorite.append(times[k])\n",
        "            episodes[0, i]=times[k]  #the process follows two episodes\n",
        "            X2_1=m1*np.ones(n)+np.ones(n)*mu2*times+s22*np.ones(n)*np.array(Wiener(n, 1, time).T[0])\n",
        "            X2new1=abs(X2_1)\n",
        "            a=[k for k in X2new1 if k>=1]\n",
        "            k11=list(X2new1).index(a[0])  #first element in X2 whose absolute value is >=1\n",
        "            if X2_1[k11]>=1:  #the accept boundary of the second option is hit; option 2 is chosen\n",
        "                result[\"Option2\"]+=1\n",
        "                stopping_times.append(times[k]+times[k11])\n",
        "                episodes[1, i]=times[k11]\n",
        "                worst_best[\"A2FA1\"]+=1\n",
        "                times_A2_favorite.append(times[k]+times[k11])\n",
        "            else:   #the reject boundary of the second option is hit\n",
        "                result[\"Fall_back_option\"]+=1\n",
        "                stopping_times.append(times[k]+times[k11])   #one is left with the Fall back option\n",
        "                episodes[1, i]=times[k11]\n",
        "                worst_best[\"FA2A1\"]+=1\n",
        "                times_F_favorite.append(times[k]+times[k11])\n",
        "        else:   #X2[k]<=-1, i.e. the reject boundary of the second option is hit\n",
        "            times_A2_least_favorite.append(times[k])\n",
        "            episodes[0, i]=times[k]\n",
        "            X1=m2*np.ones(n)+np.ones(n)*mu1*times+s11*np.ones(n)*np.array(Wiener(n, 1, time).T[0]) #the process continues as one dimensional Wiener process with drift\n",
        "            X1new=abs(X1)\n",
        "            b=[k for k in X1new if k>=1]\n",
        "            k22=list(X1new).index(b[0])\n",
        "            if X1[k22]>=1:  #the accept boundary of the first option is hit\n",
        "                result[\"Option1\"]+=1  #the first option is chosen\n",
        "                stopping_times.append(times[k]+times[k22])\n",
        "                episodes[1, i]=times[k22]\n",
        "                worst_best[\"A1FA2\"]+=1\n",
        "                times_A1_favorite.append(times[k]+times[k22])\n",
        "            else:  #otherwise X1[k22]<=-1 thus the reject boundary of option 1 is hit and one is left with the fall back option\n",
        "                result[\"Fall_back_option\"]+=1\n",
        "                stopping_times.append(times[k]+times[k22])\n",
        "                episodes[1, i]=times[k22]\n",
        "                worst_best[\"FA1A2\"]+=1\n",
        "                times_F_favorite.append(times[k]+times[k22])\n",
        "    data=[[worst_best[\"A1A2F\"]/N, worst_best[\"A1FA2\"]/N,worst_best[\"A2A1F\"]/N, worst_best[\"A2FA1\"]/N,worst_best[\"FA1A2\"]/N, worst_best[\"FA2A1\"]/N],[np.mean(times_A1_favorite), np.mean(times_A2_favorite), np.mean(times_F_favorite)],[np.mean(times_A1_least_favorite), np.mean(times_A2_least_favorite), np.mean(times_F_least_favorite)]]\n",
        "    return \"The choice probabilities for option 1, option 2, and fall-back option are {}, {}, and {} respectively. The mean of the reaction time is {}.\".format(result[\"Option1\"]/N, result[\"Option2\"]/N, result[\"Fall_back_option\"]/N, np.mean((stopping_times))), stopping_times, data, episodes, \"The average durations of the first and second episode of the process are {} and {} respectively\".format(np.mean(episodes[0]), np.mean(episodes[1]))\n"
      ]
    },
    {
      "cell_type": "code",
      "execution_count": null,
      "id": "2e66f4ce",
      "metadata": {
        "id": "2e66f4ce"
      },
      "outputs": [],
      "source": [
        "summary, reaction_time, worst_best, episodes, info_episodes=Cubemodel(100, 3000,20000, 2, 0, 0, 1, 1)  #take (mu1, mu2, s11, s22)=(0,0,1,1)"
      ]
    },
    {
      "cell_type": "markdown",
      "id": "d0e79e18",
      "metadata": {
        "id": "d0e79e18"
      },
      "source": [
        "Find the choice probability for each option and the mean of the reaction time:"
      ]
    },
    {
      "cell_type": "code",
      "execution_count": null,
      "id": "b1c6a93d",
      "metadata": {
        "id": "b1c6a93d",
        "outputId": "db214e0a-5f09-4034-d43a-9ed78aa4f035"
      },
      "outputs": [
        {
          "data": {
            "text/plain": [
              "'The choice probabilities for option 1, option 2, and fall-back option are 0.387, 0.37166666666666665, and 0.24133333333333334 respectively. The mean of the reaction time is 1.066289981165725.'"
            ]
          },
          "execution_count": 5,
          "metadata": {},
          "output_type": "execute_result"
        }
      ],
      "source": [
        "summary"
      ]
    },
    {
      "cell_type": "markdown",
      "id": "b3b3bd72",
      "metadata": {
        "id": "b3b3bd72"
      },
      "source": [
        "Display the probability distribution of the reaction time random variable (the vertical line is the mean of it):"
      ]
    },
    {
      "cell_type": "code",
      "execution_count": null,
      "id": "846e3b33",
      "metadata": {
        "id": "846e3b33",
        "outputId": "aa17ecdd-c978-48eb-e6bd-c08730b52820"
      },
      "outputs": [
        {
          "name": "stderr",
          "output_type": "stream",
          "text": [
            "No artists with labels found to put in legend.  Note that artists whose label start with an underscore are ignored when legend() is called with no argument.\n"
          ]
        },
        {
          "data": {
            "image/png": "[encoded data removed]",
            "text/plain": [
              "<Figure size 500x500 with 1 Axes>"
            ]
          },
          "metadata": {},
          "output_type": "display_data"
        }
      ],
      "source": [
        "sns.displot(data=reaction_time,kind='kde')\n",
        "plt.xlabel('Reaction Time')\n",
        "plt.ylabel('Density')\n",
        "plt.legend(title=r\"$\\mu_{1}=0$, $\\mu_{2}=0$, $\\sigma_{11}=1$, $\\sigma_{22}=1$\")\n",
        "plt.show()"
      ]
    },
    {
      "cell_type": "markdown",
      "id": "a8a3803e",
      "metadata": {
        "id": "a8a3803e"
      },
      "source": [
        "Find the choice probabilities of each of worst-best scenarios and of the possibilities describing each of the options as being the most/least preferred. Find the corresponding mean time:"
      ]
    },
    {
      "cell_type": "code",
      "execution_count": null,
      "id": "e7ed6eb6",
      "metadata": {
        "id": "e7ed6eb6",
        "outputId": "6a855bb8-0e6f-4234-ae67-862fd76210a9"
      },
      "outputs": [
        {
          "data": {
            "text/html": [
              "<div>\n",
              "<style scoped>\n",
              "    .dataframe tbody tr th:only-of-type {\n",
              "        vertical-align: middle;\n",
              "    }\n",
              "\n",
              "    .dataframe tbody tr th {\n",
              "        vertical-align: top;\n",
              "    }\n",
              "\n",
              "    .dataframe thead th {\n",
              "        text-align: right;\n",
              "    }\n",
              "</style>\n",
              "<table border=\"1\" class=\"dataframe\">\n",
              "  <thead>\n",
              "    <tr style=\"text-align: right;\">\n",
              "      <th></th>\n",
              "      <th>P[A₁A₂F]</th>\n",
              "      <th>P[A₁FA₂]</th>\n",
              "      <th>P[A₂A₁F]</th>\n",
              "      <th>P[A₂FA₁]</th>\n",
              "      <th>P[FA₁A₂]</th>\n",
              "      <th>P[FA₂A₁]</th>\n",
              "    </tr>\n",
              "  </thead>\n",
              "  <tbody>\n",
              "    <tr>\n",
              "      <th>0</th>\n",
              "      <td>0.134</td>\n",
              "      <td>0.253</td>\n",
              "      <td>0.129</td>\n",
              "      <td>0.242667</td>\n",
              "      <td>0.108</td>\n",
              "      <td>0.133333</td>\n",
              "    </tr>\n",
              "  </tbody>\n",
              "</table>\n",
              "</div>"
            ],
            "text/plain": [
              "   P[A₁A₂F]  P[A₁FA₂]  P[A₂A₁F]  P[A₂FA₁]  P[FA₁A₂]  P[FA₂A₁]\n",
              "0     0.134     0.253     0.129  0.242667     0.108  0.133333"
            ]
          },
          "execution_count": 7,
          "metadata": {},
          "output_type": "execute_result"
        }
      ],
      "source": [
        "head1=[\"P[A1A2F]\".translate(SUB), \"P[A1FA2]\".translate(SUB), \"P[A2A1F]\".translate(SUB), \"P[A2FA1]\".translate(SUB), \"P[FA1A2]\".translate(SUB), \"P[FA2A1]\".translate(SUB)]\n",
        "mydata1=[worst_best[0]] #the probabilities of each of the worst_best scenarios\n",
        "df1=pd.DataFrame(mydata1,columns=head1)\n",
        "df1"
      ]
    },
    {
      "cell_type": "code",
      "execution_count": null,
      "id": "f0559a24",
      "metadata": {
        "id": "f0559a24",
        "outputId": "26d0e07a-8bf2-4112-90c4-bde1c0f38cc5"
      },
      "outputs": [
        {
          "data": {
            "text/html": [
              "<div>\n",
              "<style scoped>\n",
              "    .dataframe tbody tr th:only-of-type {\n",
              "        vertical-align: middle;\n",
              "    }\n",
              "\n",
              "    .dataframe tbody tr th {\n",
              "        vertical-align: top;\n",
              "    }\n",
              "\n",
              "    .dataframe thead th {\n",
              "        text-align: right;\n",
              "    }\n",
              "</style>\n",
              "<table border=\"1\" class=\"dataframe\">\n",
              "  <thead>\n",
              "    <tr style=\"text-align: right;\">\n",
              "      <th></th>\n",
              "      <th>P[A₁ is the most preferred option]</th>\n",
              "      <th>P[A₂ is the most preferred option]</th>\n",
              "      <th>P[F is the most preferred option]</th>\n",
              "    </tr>\n",
              "  </thead>\n",
              "  <tbody>\n",
              "    <tr>\n",
              "      <th>0</th>\n",
              "      <td>0.387</td>\n",
              "      <td>0.371667</td>\n",
              "      <td>0.241333</td>\n",
              "    </tr>\n",
              "  </tbody>\n",
              "</table>\n",
              "</div>"
            ],
            "text/plain": [
              "   P[A₁ is the most preferred option]  P[A₂ is the most preferred option]  \\\n",
              "0                               0.387                            0.371667   \n",
              "\n",
              "   P[F is the most preferred option]  \n",
              "0                           0.241333  "
            ]
          },
          "execution_count": 8,
          "metadata": {},
          "output_type": "execute_result"
        }
      ],
      "source": [
        "head2=[\"P[A1 is the most preferred option]\".translate(SUB), \"P[A2 is the most preferred option]\".translate(SUB), \"P[F is the most preferred option]\".translate(SUB)]\n",
        "mydata2=[[worst_best[0][0]+worst_best[0][1],worst_best[0][2]+worst_best[0][3], worst_best[0][4]+worst_best[0][5]]] #the probabilities for the scenarios where options A1, A2, F are the most preferred ones\n",
        "df2=pd.DataFrame(mydata2, columns=head2)\n",
        "df2"
      ]
    },
    {
      "cell_type": "code",
      "execution_count": null,
      "id": "3b0499a9",
      "metadata": {
        "id": "3b0499a9",
        "outputId": "18b2cbe8-ac59-4b97-ed45-a59479e2edde"
      },
      "outputs": [
        {
          "data": {
            "text/html": [
              "<div>\n",
              "<style scoped>\n",
              "    .dataframe tbody tr th:only-of-type {\n",
              "        vertical-align: middle;\n",
              "    }\n",
              "\n",
              "    .dataframe tbody tr th {\n",
              "        vertical-align: top;\n",
              "    }\n",
              "\n",
              "    .dataframe thead th {\n",
              "        text-align: right;\n",
              "    }\n",
              "</style>\n",
              "<table border=\"1\" class=\"dataframe\">\n",
              "  <thead>\n",
              "    <tr style=\"text-align: right;\">\n",
              "      <th></th>\n",
              "      <th>P[A₁ is the least preferred option]</th>\n",
              "      <th>P[A₂ is the least preferred option]</th>\n",
              "      <th>P[F is the least preferred option]</th>\n",
              "    </tr>\n",
              "  </thead>\n",
              "  <tbody>\n",
              "    <tr>\n",
              "      <th>0</th>\n",
              "      <td>0.376</td>\n",
              "      <td>0.361</td>\n",
              "      <td>0.263</td>\n",
              "    </tr>\n",
              "  </tbody>\n",
              "</table>\n",
              "</div>"
            ],
            "text/plain": [
              "   P[A₁ is the least preferred option]  P[A₂ is the least preferred option]  \\\n",
              "0                                0.376                                0.361   \n",
              "\n",
              "   P[F is the least preferred option]  \n",
              "0                               0.263  "
            ]
          },
          "execution_count": 9,
          "metadata": {},
          "output_type": "execute_result"
        }
      ],
      "source": [
        "head3=[\"P[A1 is the least preferred option]\".translate(SUB), \"P[A2 is the least preferred option]\".translate(SUB), \"P[F is the least preferred option]\".translate(SUB)]\n",
        "mydata3=[[worst_best[0][3]+worst_best[0][5],worst_best[0][1]+worst_best[0][4],worst_best[0][2]+worst_best[0][0]]]  #the probabilities for the scenarios where options A1, A2, F are the most preferred ones\n",
        "df3=pd.DataFrame(mydata3, columns=head3)\n",
        "df3"
      ]
    },
    {
      "cell_type": "code",
      "execution_count": null,
      "id": "835182b8",
      "metadata": {
        "id": "835182b8",
        "outputId": "bf2d9b54-1e45-4ff6-e511-23ab711cb257"
      },
      "outputs": [
        {
          "data": {
            "text/html": [
              "<div>\n",
              "<style scoped>\n",
              "    .dataframe tbody tr th:only-of-type {\n",
              "        vertical-align: middle;\n",
              "    }\n",
              "\n",
              "    .dataframe tbody tr th {\n",
              "        vertical-align: top;\n",
              "    }\n",
              "\n",
              "    .dataframe thead th {\n",
              "        text-align: right;\n",
              "    }\n",
              "</style>\n",
              "<table border=\"1\" class=\"dataframe\">\n",
              "  <thead>\n",
              "    <tr style=\"text-align: right;\">\n",
              "      <th></th>\n",
              "      <th>A₁ most preferred / mean time</th>\n",
              "      <th>A₂ most preferred / mean time</th>\n",
              "      <th>F most preferred / mean time</th>\n",
              "    </tr>\n",
              "  </thead>\n",
              "  <tbody>\n",
              "    <tr>\n",
              "      <th>0</th>\n",
              "      <td>0.885527</td>\n",
              "      <td>0.96112</td>\n",
              "      <td>1.518128</td>\n",
              "    </tr>\n",
              "  </tbody>\n",
              "</table>\n",
              "</div>"
            ],
            "text/plain": [
              "   A₁ most preferred / mean time  A₂ most preferred / mean time  \\\n",
              "0                       0.885527                        0.96112   \n",
              "\n",
              "   F most preferred / mean time  \n",
              "0                      1.518128  "
            ]
          },
          "execution_count": 10,
          "metadata": {},
          "output_type": "execute_result"
        }
      ],
      "source": [
        "head4=[\"A1 most preferred / mean time\".translate(SUB),\"A2 most preferred / mean time\".translate(SUB),\"F most preferred / mean time\".translate(SUB)]\n",
        "mydata4=[worst_best[1]]  #the mean of the times determining the choice of options A1, A2, F as the most preferred one respectively\n",
        "df4=pd.DataFrame(mydata4, columns=head4)\n",
        "df4"
      ]
    },
    {
      "cell_type": "code",
      "execution_count": null,
      "id": "74384c21",
      "metadata": {
        "id": "74384c21",
        "outputId": "a9e7efe4-b4de-4e66-d97e-5a97c28e6427"
      },
      "outputs": [
        {
          "data": {
            "text/html": [
              "<div>\n",
              "<style scoped>\n",
              "    .dataframe tbody tr th:only-of-type {\n",
              "        vertical-align: middle;\n",
              "    }\n",
              "\n",
              "    .dataframe tbody tr th {\n",
              "        vertical-align: top;\n",
              "    }\n",
              "\n",
              "    .dataframe thead th {\n",
              "        text-align: right;\n",
              "    }\n",
              "</style>\n",
              "<table border=\"1\" class=\"dataframe\">\n",
              "  <thead>\n",
              "    <tr style=\"text-align: right;\">\n",
              "      <th></th>\n",
              "      <th>A₁ least preferred / mean time</th>\n",
              "      <th>A₂ least preferred / mean time</th>\n",
              "      <th>F least preferred / mean time</th>\n",
              "    </tr>\n",
              "  </thead>\n",
              "  <tbody>\n",
              "    <tr>\n",
              "      <th>0</th>\n",
              "      <td>0.959334</td>\n",
              "      <td>0.91927</td>\n",
              "      <td>1.540685</td>\n",
              "    </tr>\n",
              "  </tbody>\n",
              "</table>\n",
              "</div>"
            ],
            "text/plain": [
              "   A₁ least preferred / mean time  A₂ least preferred / mean time  \\\n",
              "0                        0.959334                         0.91927   \n",
              "\n",
              "   F least preferred / mean time  \n",
              "0                       1.540685  "
            ]
          },
          "execution_count": 11,
          "metadata": {},
          "output_type": "execute_result"
        }
      ],
      "source": [
        "head5=[\"A1 least preferred / mean time\".translate(SUB),\"A2 least preferred / mean time\".translate(SUB),\"F least preferred / mean time\".translate(SUB)]  #the mean of the times determining the choice of options A1, A2, F as the most preferred one respectively\n",
        "mydata5=[worst_best[2]]\n",
        "df5=pd.DataFrame(mydata5, columns=head5)\n",
        "df5"
      ]
    },
    {
      "cell_type": "markdown",
      "id": "caa04ed2",
      "metadata": {
        "id": "caa04ed2"
      },
      "source": [
        "Find the mean of the stopping times in each episode:"
      ]
    },
    {
      "cell_type": "code",
      "execution_count": null,
      "id": "14178500",
      "metadata": {
        "id": "14178500",
        "outputId": "ed8daa7e-f3f5-4907-e726-cd5742b44441"
      },
      "outputs": [
        {
          "data": {
            "text/plain": [
              "'The average durations of the first and second episode of the process are 0.6442205443605513 and 0.42206943680517356 respectively'"
            ]
          },
          "execution_count": 12,
          "metadata": {},
          "output_type": "execute_result"
        }
      ],
      "source": [
        "info_episodes"
      ]
    },
    {
      "cell_type": "markdown",
      "id": "4cfb9223",
      "metadata": {
        "id": "4cfb9223"
      },
      "source": [
        "Obtain the distribution of stopping times of each episode"
      ]
    },
    {
      "cell_type": "code",
      "execution_count": null,
      "id": "362a186e",
      "metadata": {
        "id": "362a186e",
        "outputId": "77e13cca-2030-4826-da46-e27989e2d558"
      },
      "outputs": [
        {
          "data": {
            "text/plain": [
              "<matplotlib.legend.Legend at 0x258f4a31180>"
            ]
          },
          "execution_count": 13,
          "metadata": {},
          "output_type": "execute_result"
        },
        {
          "data": {
            "image/png": "[encoded data removed]",
            "text/plain": [
              "<Figure size 600x600 with 3 Axes>"
            ]
          },
          "metadata": {},
          "output_type": "display_data"
        }
      ],
      "source": [
        "episodes_new=pd.DataFrame({\"Episode 1\": episodes[0], \"Episode 2\": episodes[1]})\n",
        "sns.jointplot(x=\"Episode 1\",y=\"Episode 2\", data=episodes_new, color=\"brown\", label=r\"$\\mu_{1}=0$,$\\mu_{2}=0$,$\\sigma_{11}=1$,$\\sigma_{22}=1$\")\n",
        "plt.legend()\n",
        "#plt.savefig(\"Joint6.png\")"
      ]
    }
  ],
  "metadata": {
    "kernelspec": {
      "display_name": "Python 3 (ipykernel)",
      "language": "python",
      "name": "python3"
    },
    "language_info": {
      "codemirror_mode": {
        "name": "ipython",
        "version": 3
      },
      "file_extension": ".py",
      "mimetype": "text/x-python",
      "name": "python",
      "nbconvert_exporter": "python",
      "pygments_lexer": "ipython3",
      "version": "3.10.9"
    },
    "colab": {
      "provenance": [],
      "include_colab_link": true
    }
  },
  "nbformat": 4,
  "nbformat_minor": 5
}